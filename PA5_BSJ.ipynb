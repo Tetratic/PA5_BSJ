{
 "cells": [
  {
   "cell_type": "markdown",
   "metadata": {},
   "source": [
    "# Programming Assignment 5\n",
    "Brian Johnston  \n",
    "v1.0  \n",
    "FA2020-CS150-01"
   ]
  },
  {
   "cell_type": "markdown",
   "metadata": {},
   "source": [
    "a."
   ]
  },
  {
   "cell_type": "code",
   "execution_count": 2,
   "metadata": {},
   "outputs": [],
   "source": [
    "frnTransl = {\n",
    "    \"name\": \"nom\",\n",
    "    \"egg\": \"œuf\",\n",
    "    \"lighter\": \"briquet\",\n",
    "    \"car\": \"voiture\",\n",
    "    \"motorcycle\": \"moto\",\n",
    "    \"water\": \"eau\",\n",
    "    \"sun\": \"soleil\",\n",
    "    \"play\": \"jouer\",\n",
    "    \"game\": \"jeu\",\n",
    "    \"job\": \"emploi\",\n",
    "    \"fire\": \"feu\",\n",
    "    \"wage\": \"salaire\",\n",
    "    \"child\": \"enfant\",\n",
    "    \"leaf\": \"feuille\",\n",
    "    \"card\": \"carte\",\n",
    "    \"earth\": \"terre\",\n",
    "    \"keyboard\": \"clavier\",\n",
    "    \"beer\": \"bière\",\n",
    "    \"wind\": \"vent\",\n",
    "    \"complete\": \"achevé\"\n",
    "}"
   ]
  },
  {
   "cell_type": "code",
   "execution_count": 3,
   "metadata": {},
   "outputs": [
    {
     "name": "stdout",
     "output_type": "stream",
     "text": [
      "Enter a word to translate from English to French (enter 0 to stop): \n",
      "The French word for  is not in this dictionary.\n",
      "Enter a word to translate from English to French (enter 0 to stop): 0\n"
     ]
    }
   ],
   "source": [
    "repeat = True\n",
    "while repeat == True:\n",
    "    word = input(\"Enter a word to translate from English to French (enter 0 to stop): \")\n",
    "    if word in frnTransl:\n",
    "        print(\"The French word for \" + word + \" is \" + frnTransl[word].upper() + \".\")\n",
    "    elif word == \"0\":\n",
    "        repeat = False\n",
    "    else:\n",
    "        print(\"The French word for \" + word.upper() + \" is not in this dictionary.\")"
   ]
  },
  {
   "cell_type": "markdown",
   "metadata": {},
   "source": [
    "b."
   ]
  },
  {
   "cell_type": "code",
   "execution_count": 24,
   "metadata": {},
   "outputs": [],
   "source": [
    "import prettytable as pTab"
   ]
  },
  {
   "cell_type": "code",
   "execution_count": 39,
   "metadata": {},
   "outputs": [],
   "source": [
    "def print_player_data(player):\n",
    "    x = pTab.PrettyTable([player[0][0],player[1][0],player[2][0]])\n",
    "    \n",
    "    x.add_row([player[0][1],player[1][1],player[2][1]])\n",
    "    \n",
    "    print(\"Description: \" + player[3])\n",
    "    print(x)"
   ]
  },
  {
   "cell_type": "code",
   "execution_count": 26,
   "metadata": {},
   "outputs": [],
   "source": [
    "classData = {\n",
    "    \"SORCERER\": [(\"Hit Die\",\"d6\"),(\"Primary Ability\",\"Charisma\"),(\"Saves\",\"Constitution & Charisma\"),\"A spellcaster who draws on inherent magic from a gift or bloodline\"],\n",
    "    \"BARD\": [(\"Hit Die\", \"d8\"),(\"Primary Ability\",\"Charisma\"),(\"Saves\",\"Dexterity & Charisma\"),\"An inspiring magician whose power echoes the music of creation\"],\n",
    "    \"WARLOCK\": [(\"Hit Die\",\"d8\"),(\"Primary Ability\",\"Charisma\"),(\"Saves\",\"Wisdom & Charisma\"),\"A wielder of magic that is derived from a bargain with an extraplanar entity\"],\n",
    "    \"RANGER\": [(\"Hit Die\",\"d10\"),(\"Primary Ability\",\"Dexterity & Wisdom\"),(\"Saves\",\"Strength & Dexterity\"),\"A warrior who combats threats on the edges of civilization\"],\n",
    "    \"ROGUE\": [(\"Hit Die\",\"d8\"),(\"Primary Ability\",\"Dexterity\"),(\"Saves\",\"Dexterity & Intelligence\"),\"A scoundrel who uses stealth and trickery to overcome obstacles and enemies\"],\n",
    "    \"CLERIC\": [(\"Hit Die\",\"d8\"),(\"Primary Ability\",\"Wisdom\"),(\"Saves\",\"Wisdom & Charisma\"),\"A priestly champion who wields divine magic in service of a higher power\"]\n",
    "}"
   ]
  },
  {
   "cell_type": "code",
   "execution_count": 40,
   "metadata": {},
   "outputs": [
    {
     "name": "stdout",
     "output_type": "stream",
     "text": [
      "Enter the class of a player you would like to look up. Enter zero (0) to quit. ranger\n",
      "\n",
      "RANGER\n",
      "Description: A warrior who combats threats on the edges of civilization\n",
      "+---------+--------------------+----------------------+\n",
      "| Hit Die |  Primary Ability   |        Saves         |\n",
      "+---------+--------------------+----------------------+\n",
      "|   d10   | Dexterity & Wisdom | Strength & Dexterity |\n",
      "+---------+--------------------+----------------------+\n",
      "Enter the class of a player you would like to look up. Enter zero (0) to quit. 0\n",
      "\n",
      "0\n"
     ]
    }
   ],
   "source": [
    "repeat = True\n",
    "\n",
    "while repeat == True:\n",
    "    plyrCls = input(\"Enter the class of a player you would like to look up. Enter zero (0) to quit. \").upper()\n",
    "    print(\"\\n\" + plyrCls)\n",
    "    if plyrCls in classData:\n",
    "        print_player_data(classData[plyrCls])\n",
    "    elif plyrCls == \"0\" or plyrCls == \"ZERO\":\n",
    "        repeat = False\n",
    "    else:\n",
    "        print(\"I have no record of this player class!\")"
   ]
  },
  {
   "cell_type": "code",
   "execution_count": null,
   "metadata": {},
   "outputs": [],
   "source": []
  }
 ],
 "metadata": {
  "kernelspec": {
   "display_name": "Python 3",
   "language": "python",
   "name": "python3"
  },
  "language_info": {
   "codemirror_mode": {
    "name": "ipython",
    "version": 3
   },
   "file_extension": ".py",
   "mimetype": "text/x-python",
   "name": "python",
   "nbconvert_exporter": "python",
   "pygments_lexer": "ipython3",
   "version": "3.8.3"
  }
 },
 "nbformat": 4,
 "nbformat_minor": 2
}
